{
 "cells": [
  {
   "cell_type": "markdown",
   "metadata": {
    "pycharm": {
     "name": "#%% md\n"
    }
   },
   "source": [
    "# Fitting 2d Toy Datasets with the FKLD"
   ]
  },
  {
   "cell_type": "code",
   "execution_count": null,
   "metadata": {
    "pycharm": {
     "name": "#%%\n"
    }
   },
   "outputs": [],
   "source": [
    "# Import packages\n",
    "import numpy as np\n",
    "import torch\n",
    "import normflows as nf\n",
    "import larsflow as lf\n",
    "\n",
    "from matplotlib import pyplot as plt\n",
    "\n",
    "from tqdm import tqdm"
   ]
  },
  {
   "cell_type": "code",
   "execution_count": null,
   "metadata": {
    "pycharm": {
     "name": "#%%\n"
    }
   },
   "outputs": [],
   "source": [
    "# Get device\n",
    "enable_cuda = True\n",
    "device = torch.device('cuda' if torch.cuda.is_available() and enable_cuda else 'cpu')"
   ]
  },
  {
   "cell_type": "code",
   "execution_count": null,
   "metadata": {
    "pycharm": {
     "name": "#%%\n"
    }
   },
   "outputs": [],
   "source": [
    "# Function for model creation\n",
    "\n",
    "def create_model(p, base='gauss'):\n",
    "    # Set up model\n",
    "\n",
    "    # Define flows\n",
    "    K = 8\n",
    "    torch.manual_seed(10)\n",
    "\n",
    "    latent_size = 2\n",
    "    b = torch.Tensor([1 if i % 2 == 0 else 0 for i in range(latent_size)])\n",
    "    flows = []\n",
    "    for i in range(K):\n",
    "        param_map = nf.nets.MLP([latent_size // 2, 32, 32, latent_size], init_zeros=True)\n",
    "        flows += [nf.flows.AffineCouplingBlock(param_map)]\n",
    "        flows += [nf.flows.Permute(latent_size, mode='swap')]\n",
    "        flows += [nf.flows.ActNorm(latent_size)]\n",
    "\n",
    "    # Set prior and q0\n",
    "    if base == 'resampled':\n",
    "        a = nf.nets.MLP([latent_size, 256, 256, 1], output_fn=\"sigmoid\")\n",
    "        q0 = lf.distributions.ResampledGaussian(latent_size, a, 100, 0.1, trainable=False)\n",
    "    elif base == 'gaussian_mixture':\n",
    "        n_modes = 10\n",
    "        q0 = nf.distributions.GaussianMixture(n_modes, latent_size, trainable=True,\n",
    "                                              loc=(np.random.rand(n_modes, latent_size) - 0.5) * 5,\n",
    "                                              scale=0.5 * np.ones((n_modes, latent_size)))\n",
    "    elif base == 'gauss':\n",
    "        q0 = nf.distributions.DiagGaussian(latent_size, trainable=False)\n",
    "    else:\n",
    "        raise NotImplementedError('This base distribution is not implemented.')\n",
    "\n",
    "    # Construct flow model\n",
    "    model = lf.NormalizingFlow(q0=q0, flows=flows, p=p)\n",
    "\n",
    "    # Move model on GPU if available\n",
    "    return model.to(device)\n",
    "\n",
    "\n",
    "# Function to train model\n",
    "\n",
    "def train(model, max_iter=20000, num_samples=2 ** 10, lr=1e-3, weight_decay=1e-3, \n",
    "          q0_weight_decay=1e-4):\n",
    "    # Do mixed precision training\n",
    "    optimizer = torch.optim.Adam(model.parameters(),  lr=lr, weight_decay=weight_decay)\n",
    "    model.train()\n",
    "\n",
    "    for it in tqdm(range(max_iter)):\n",
    "        \n",
    "        x = model.p.sample(num_samples)\n",
    "\n",
    "        loss = model.forward_kld(x)\n",
    "\n",
    "        loss.backward()\n",
    "        optimizer.step()\n",
    "\n",
    "        # Clear gradients\n",
    "        nf.utils.clear_grad(model)"
   ]
  },
  {
   "cell_type": "code",
   "execution_count": null,
   "metadata": {
    "pycharm": {
     "name": "#%%\n"
    }
   },
   "outputs": [],
   "source": [
    "# Plot function\n",
    "def plot_results(model, target=True, a=False, save=False, prefix=''):\n",
    "    # Prepare z grid for evaluation\n",
    "    grid_size = 300\n",
    "    xx, yy = torch.meshgrid(torch.linspace(-3, 3, grid_size), torch.linspace(-3, 3, grid_size))\n",
    "    zz = torch.cat([xx.unsqueeze(2), yy.unsqueeze(2)], 2).view(-1, 2)\n",
    "    zz = zz.to(device)\n",
    "    \n",
    "    log_prob = model.p.log_prob(zz).to('cpu').view(*xx.shape)\n",
    "    prob = torch.exp(log_prob)\n",
    "    prob[torch.isnan(prob)] = 0\n",
    "    prob_target = prob.data.numpy()\n",
    "    \n",
    "    if target:\n",
    "        plt.figure(figsize=(15, 15))\n",
    "        plt.pcolormesh(xx, yy, prob_target)\n",
    "        #cs = plt.contour(xx, yy, prob_target, [.025, .15, .7], colors='w', linewidths=3)#, linestyles='dashed')\n",
    "        #for c in cs.collections:\n",
    "        #    c.set_dashes([(0, (10.0, 10.0))])\n",
    "        plt.gca().set_aspect('equal', 'box')\n",
    "        plt.axis('off')\n",
    "        if save:\n",
    "            plt.savefig(prefix + 'target.png', dpi=300)\n",
    "        plt.show()\n",
    "\n",
    "    model.eval()\n",
    "    log_prob = model.log_prob(zz).to('cpu').view(*xx.shape)\n",
    "\n",
    "    prob = torch.exp(log_prob.to('cpu').view(*xx.shape))\n",
    "    prob[torch.isnan(prob)] = 0\n",
    "    prob_model = prob.data.numpy()\n",
    "\n",
    "    plt.figure(figsize=(15, 15))\n",
    "    plt.pcolormesh(xx, yy, prob_model)#, cmap=plt.get_cmap('coolwarm'))\n",
    "    #cs = plt.contour(xx, yy, prob_model, [.025, .2, .35], colors='w', linewidths=3)#, linestyles='dashed')\n",
    "    #for c in cs.collections:\n",
    "    #    c.set_dashes([(0, (10.0, 10.0))])\n",
    "    plt.gca().set_aspect('equal')\n",
    "    plt.axis('off')\n",
    "    if save:\n",
    "        plt.savefig(prefix + 'model.png', dpi=300)\n",
    "    plt.show()\n",
    "\n",
    "    log_prob = model.q0.log_prob(zz).to('cpu').view(*xx.shape)\n",
    "    prob = torch.exp(log_prob)\n",
    "    prob[torch.isnan(prob)] = 0\n",
    "    prob_base = prob.data.numpy()\n",
    "\n",
    "    plt.figure(figsize=(15, 15))\n",
    "    plt.pcolormesh(xx, yy, prob_base)\n",
    "    #cs = plt.contour(xx, yy, prob_base, [.025, .075, .135], colors='w', linewidths=3)#, linestyles='dashed')\n",
    "    #for c in cs.collections:\n",
    "    #    c.set_dashes([(0, (10.0, 10.0))])\n",
    "    plt.gca().set_aspect('equal')\n",
    "    plt.axis('off')\n",
    "    if save:\n",
    "        plt.savefig(prefix + 'base.png', dpi=300)\n",
    "    plt.show()\n",
    "    \n",
    "    if a:\n",
    "        prob = model.q0.a(zz).to('cpu').view(*xx.shape)\n",
    "        prob[torch.isnan(prob)] = 0\n",
    "\n",
    "        plt.figure(figsize=(15, 15))\n",
    "        plt.pcolormesh(xx, yy, prob.data.numpy())\n",
    "        plt.gca().set_aspect('equal')\n",
    "        plt.axis('off')\n",
    "        if save:\n",
    "            plt.savefig(prefix + 'a.png', dpi=300)\n",
    "        plt.show()\n",
    "    \n",
    "    # Compute KLD\n",
    "    eps = 1e-10\n",
    "    kld = np.sum(prob_target * np.log((prob_target + eps) / (prob_model + eps)) * 6 ** 2 / grid_size ** 2)\n",
    "    print('KL divergence: %f' % kld)"
   ]
  },
  {
   "cell_type": "code",
   "execution_count": null,
   "metadata": {
    "scrolled": false,
    "pycharm": {
     "name": "#%%\n"
    }
   },
   "outputs": [],
   "source": [
    "# Train models\n",
    "p = [nf.distributions.TwoMoons(), nf.distributions.CircularGaussianMixture(), nf.distributions.RingMixture()]\n",
    "name = ['moons', 'circle', 'rings']\n",
    "\n",
    "for i in range(len(p)):\n",
    "    # Train model with Gaussain base distribution\n",
    "    model = create_model(p[i], 'gauss')\n",
    "    train(model)\n",
    "    # Plot and save results\n",
    "    plot_results(model, save=False,\n",
    "                 prefix='results/2d_distributions/fkld/rnvp/' \n",
    "                 + name[i] + '_gauss_')\n",
    "    \n",
    "    # Train model with mixture of Gaussians base distribution\n",
    "    model = create_model(p[i], 'gaussian_mixture')\n",
    "    train(model)\n",
    "    # Plot and save results\n",
    "    plot_results(model, save=True,\n",
    "                 prefix='results/2d_distributions/fkld/rnvp/' \n",
    "                 + name[i] + '_gaussian_mixture_')\n",
    "    \n",
    "    # Train model with resampled base distribution\n",
    "    model = create_model(p[i], 'resampled')\n",
    "    train(model)\n",
    "    # Plot and save results\n",
    "    plot_results(model, save=True, a=True,\n",
    "                 prefix='results/2d_distributions/fkld/rnvp/' \n",
    "                 + name[i] + '_resampled_')"
   ]
  }
 ],
 "metadata": {
  "kernelspec": {
   "display_name": "Python 3 (ipykernel)",
   "language": "python",
   "name": "python3"
  },
  "language_info": {
   "codemirror_mode": {
    "name": "ipython",
    "version": 3
   },
   "file_extension": ".py",
   "mimetype": "text/x-python",
   "name": "python",
   "nbconvert_exporter": "python",
   "pygments_lexer": "ipython3",
   "version": "3.8.11"
  }
 },
 "nbformat": 4,
 "nbformat_minor": 4
}