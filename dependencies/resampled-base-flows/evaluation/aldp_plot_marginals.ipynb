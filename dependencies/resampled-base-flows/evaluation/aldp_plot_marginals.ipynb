{
 "cells": [
  {
   "cell_type": "markdown",
   "metadata": {},
   "source": [
    "# Plot marginals"
   ]
  },
  {
   "cell_type": "code",
   "execution_count": null,
   "metadata": {},
   "outputs": [],
   "source": [
    "# Import packages\n",
    "import torch\n",
    "import numpy as np\n",
    "from scipy import stats\n",
    "\n",
    "import larsflow as lf\n",
    "\n",
    "import boltzgen as bg\n",
    "import mdtraj\n",
    "\n",
    "from matplotlib import pyplot as plt\n",
    "import matplotlib as mpl\n",
    "\n",
    "from tqdm import tqdm\n",
    "from time import time"
   ]
  },
  {
   "cell_type": "code",
   "execution_count": null,
   "metadata": {},
   "outputs": [],
   "source": [
    "# Specify checkpoint root\n",
    "#checkpoint_root = ['/draco/u/vstimper/projects/resampled-base-flows/experiments/bg/rnvp/fkld/gauss_03/', \n",
    "#                   '/draco/u/vstimper/projects/resampled-base-flows/experiments/bg/rnvp/fkld/gauss_15/',\n",
    "#                   '/draco/u/vstimper/projects/resampled-base-flows/experiments/bg/rnvp/fkld/resampled_03/']\n",
    "checkpoint_root = ['/draco/u/vstimper/projects/resampled-base-flows/experiments/bg/resflow/fkld/gauss_02/',\n",
    "                   '/draco/u/vstimper/projects/resampled-base-flows/experiments/bg/resflow/fkld/resampled_05/']"
   ]
  },
  {
   "cell_type": "code",
   "execution_count": null,
   "metadata": {},
   "outputs": [],
   "source": [
    "# Load config\n",
    "config = [lf.utils.get_config(cpr + 'config/config.yaml') for cpr in checkpoint_root]"
   ]
  },
  {
   "cell_type": "code",
   "execution_count": null,
   "metadata": {},
   "outputs": [],
   "source": [
    "# Load data\n",
    "test_data = torch.load('/draco/u/vstimper/projects/resampled-base-flows/datasets/boltzmann-generators/aldp_test_transformed.pt')"
   ]
  },
  {
   "cell_type": "code",
   "execution_count": null,
   "metadata": {},
   "outputs": [],
   "source": [
    "# Setup model\n",
    "model = [lf.BoltzmannGenerator(conf) for conf in config]\n",
    "n_models = len(model)\n",
    "\n",
    "# Move model on GPU if available\n",
    "enable_cuda = True\n",
    "device = torch.device('cuda' if torch.cuda.is_available() and enable_cuda else 'cpu')\n",
    "model = [m.to(device) for m in model]\n",
    "model = [m.eval() for m in model]\n",
    "\n",
    "# Remove target distribution\n",
    "for i in range(n_models):\n",
    "    model[i].p = None\n",
    "\n",
    "# Load checkpoint\n",
    "for m, cpr in zip(model, checkpoint_root):\n",
    "    m.load(cpr + 'checkpoints/model_0500000.pt')"
   ]
  },
  {
   "cell_type": "code",
   "execution_count": null,
   "metadata": {},
   "outputs": [],
   "source": [
    "# Set params for transform\n",
    "ndim = 66\n",
    "z_matrix = [\n",
    "    (0, [1, 4, 6]),\n",
    "    (1, [4, 6, 8]),\n",
    "    (2, [1, 4, 0]),\n",
    "    (3, [1, 4, 0]),\n",
    "    (4, [6, 8, 14]),\n",
    "    (5, [4, 6, 8]),\n",
    "    (7, [6, 8, 4]),\n",
    "    (11, [10, 8, 6]),\n",
    "    (12, [10, 8, 11]),\n",
    "    (13, [10, 8, 11]),\n",
    "    (15, [14, 8, 16]),\n",
    "    (16, [14, 8, 6]),\n",
    "    (17, [16, 14, 15]),\n",
    "    (18, [16, 14, 8]),\n",
    "    (19, [18, 16, 14]),\n",
    "    (20, [18, 16, 19]),\n",
    "    (21, [18, 16, 19])\n",
    "]\n",
    "cart_indices = [6, 8, 9, 10, 14]\n",
    "\n",
    "# Load data for transform\n",
    "# Load the alanine dipeptide trajectory\n",
    "traj = mdtraj.load('/draco/u/vstimper/projects/resampled-base-flows/datasets/boltzmann-generators/aldp_train.h5')\n",
    "traj.center_coordinates()\n",
    "\n",
    "# superpose on the backbone\n",
    "ind = traj.top.select(\"backbone\")\n",
    "\n",
    "traj.superpose(traj, 0, atom_indices=ind, ref_atom_indices=ind)\n",
    "\n",
    "# Gather the training data into a pytorch Tensor with the right shape\n",
    "training_data = traj.xyz\n",
    "n_atoms = training_data.shape[1]\n",
    "n_dim = n_atoms * 3\n",
    "training_data_npy = training_data.reshape(-1, n_dim)\n",
    "training_data = torch.from_numpy(training_data_npy.astype(\"float64\"))\n",
    "\n",
    "# Set up transform\n",
    "transform = bg.flows.CoordinateTransform(training_data, ndim,\n",
    "                                         z_matrix, cart_indices)"
   ]
  },
  {
   "cell_type": "code",
   "execution_count": null,
   "metadata": {},
   "outputs": [],
   "source": [
    "# Draw samples\n",
    "n_samples = 1000\n",
    "n_batches = 1000\n",
    "\n",
    "t = np.zeros((len(model), n_batches))\n",
    "z_np = np.zeros((len(model), n_batches * n_samples, 60))\n",
    "x_np = np.zeros((len(model), n_batches * n_samples, 66))\n",
    "\n",
    "for i in range(len(model)):\n",
    "    for j in tqdm(range(n_batches)):\n",
    "        st = time()\n",
    "        z, _ = model[i].sample(n_samples)\n",
    "        t[i, j] = time() - st\n",
    "        x, _ = transform(z.cpu().double())\n",
    "        x_np[i, (j * n_samples):((j + 1) * n_samples), :] = x.data.numpy()\n",
    "        z, _ = transform.inverse(x)\n",
    "        z_np[i, (j * n_samples):((j + 1) * n_samples), :] = z.data.numpy()"
   ]
  },
  {
   "cell_type": "code",
   "execution_count": null,
   "metadata": {},
   "outputs": [],
   "source": [
    "# Test data to np\n",
    "z_d_np = test_data.cpu().data.numpy()"
   ]
  },
  {
   "cell_type": "markdown",
   "metadata": {},
   "source": [
    "## Dihedral angles"
   ]
  },
  {
   "cell_type": "code",
   "execution_count": null,
   "metadata": {},
   "outputs": [],
   "source": [
    "# Estimate density\n",
    "nbins = 100\n",
    "hist_range = [-np.pi, np.pi]\n",
    "\n",
    "ncarts = transform.mixed_transform.len_cart_inds\n",
    "z_d_np_ = np.concatenate([z_d_np[:, :(3 * ncarts - 6)], np.zeros((z_d_np.shape[0], 6)),\n",
    "                          z_d_np[:, (3 * ncarts - 6):]], axis=1)\n",
    "z_np_ = np.concatenate([z_np[:, :, :(3 * ncarts - 6)], np.zeros((n_models, z_np.shape[1], 6)),\n",
    "                        z_np[:, :, (3 * ncarts - 6):]], axis=2)\n",
    "dih_ind = transform.mixed_transform.ic_transform.dih_indices.numpy()\n",
    "std_dih = transform.mixed_transform.ic_transform.std_dih.numpy()\n",
    "permute_inv = transform.mixed_transform.permute_inv.numpy()\n",
    "z_d_np_ = z_d_np_[:, permute_inv]\n",
    "z_np_ = z_np_[:, :, permute_inv]\n",
    "z_d_np_[:, dih_ind] *= std_dih\n",
    "z_np_[:, :, dih_ind] *= std_dih\n",
    "\n",
    "ndims = z_np.shape[2]\n",
    "\n",
    "hists_test = np.zeros((nbins, ndim ))\n",
    "hists_gen = np.zeros((n_models, nbins, ndim))\n",
    "\n",
    "for i in tqdm(range(ndims)):\n",
    "    htest, _ = np.histogram(z_d_np_[:, i], nbins, range=hist_range, density=True);\n",
    "    hists_test[:, i] = htest\n",
    "    \n",
    "    for j in range(n_models):\n",
    "        hgen, _ = np.histogram(z_np_[j, :, i], nbins, range=hist_range, density=True);\n",
    "        hists_gen[j, :, i] = hgen"
   ]
  },
  {
   "cell_type": "code",
   "execution_count": null,
   "metadata": {},
   "outputs": [],
   "source": [
    "# Split histograms into groups\n",
    "ncarts = transform.mixed_transform.len_cart_inds\n",
    "permute_inv = transform.mixed_transform.permute_inv\n",
    "bond_ind = transform.mixed_transform.ic_transform.bond_indices\n",
    "angle_ind = transform.mixed_transform.ic_transform.angle_indices\n",
    "dih_ind = transform.mixed_transform.ic_transform.dih_indices\n",
    "\n",
    "hists_test_cart = hists_test[:, :(3 * ncarts - 6)]\n",
    "hists_test_bond = hists_test[:, bond_ind]\n",
    "hists_test_angle = hists_test[:, angle_ind]\n",
    "hists_test_dih = hists_test[:, dih_ind]\n",
    "\n",
    "hists_gen_cart = hists_gen[:, :, :(3 * ncarts - 6)]\n",
    "hists_gen_bond = hists_gen[:, :, bond_ind]\n",
    "hists_gen_angle = hists_gen[:, :, angle_ind]\n",
    "hists_gen_dih = hists_gen[:, :, dih_ind]"
   ]
  },
  {
   "cell_type": "code",
   "execution_count": null,
   "metadata": {
    "scrolled": false
   },
   "outputs": [],
   "source": [
    "x = np.linspace(*hist_range, nbins)\n",
    "\n",
    "for i in range(hists_test_dih.shape[1]):\n",
    "    plt.plot(x, hists_test_dih[:, i])\n",
    "    for j in range(n_models):\n",
    "        plt.plot(x, hists_gen_dih[j, :, i])\n",
    "    plt.show()"
   ]
  },
  {
   "cell_type": "code",
   "execution_count": null,
   "metadata": {},
   "outputs": [],
   "source": [
    "fig, ax = plt.subplots(1, 4, figsize=(20, 5))\n",
    "ax[3].set_axis_off()\n",
    "ind = [8, 14, 3]\n",
    "color = ['k', 'g', 'r', 'r'] #['k', 'g', 'r']\n",
    "ymax = [0.22, 0.22, 0.37]\n",
    "l = []\n",
    "ax[0].set_ylabel('Probability density', fontsize=20)\n",
    "for i in range(3):\n",
    "    l_, = ax[i].plot(x, hists_test_dih[:, ind[i]], color[0], linewidth=6)\n",
    "    l = l + [l_]\n",
    "    ax[i].set_ylim([0, ymax[i]])\n",
    "    ax[i].set_xticks([-np.pi, 0, np.pi])\n",
    "    ax[i].set_yticks([0, .1, .2] if i < 2 else [0, .1, .2, .3])\n",
    "    ax[i].set_xticklabels(['$-\\pi$', '0', '$\\pi$'])\n",
    "    ax[i].tick_params(axis='x', which='both', labelsize=16)\n",
    "    ax[i].tick_params(axis='y', which='both', labelsize=16)\n",
    "    ax[i].set_xlabel('$\\gamma_%i\\,\\, (rad)$' % (i + 1), fontsize=20)\n",
    "    ax[i].set_xlim([-np.pi, np.pi])\n",
    "    for j in range(n_models):\n",
    "        l_, = ax[i].plot(x, hists_gen_dih[j, :, ind[i]], color[j + 1], linewidth=4)\n",
    "        l = l + [l_]\n",
    "#fig.legend(l, ['MD (ground truth)', 'Gaussian base\\n16 layers', 'Gaussian base\\n19 layers', 'Resampled base\\n16 layers'],\n",
    "#           fontsize=16, bbox_to_anchor=(0.85, 0.8))\n",
    "fig.legend(l, ['MD (ground truth)', 'Gaussian base', 'Resampled base'],\n",
    "           fontsize=16, bbox_to_anchor=(0.85, 0.7))\n",
    "fig.subplots_adjust(bottom=0.15)\n",
    "plt.savefig('/draco/u/vstimper/projects/resampled-base-flows/plots/dihedrals/resflow_fkld.png', dpi=300)"
   ]
  }
 ],
 "metadata": {
  "kernelspec": {
   "display_name": "Python 3",
   "language": "python",
   "name": "python3"
  },
  "language_info": {
   "codemirror_mode": {
    "name": "ipython",
    "version": 3
   },
   "file_extension": ".py",
   "mimetype": "text/x-python",
   "name": "python",
   "nbconvert_exporter": "python",
   "pygments_lexer": "ipython3",
   "version": "3.6.12"
  }
 },
 "nbformat": 4,
 "nbformat_minor": 2
}
